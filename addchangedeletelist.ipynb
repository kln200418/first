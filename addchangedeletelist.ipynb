{
  "nbformat": 4,
  "nbformat_minor": 0,
  "metadata": {
    "colab": {
      "name": "Untitled4.ipynb",
      "provenance": [],
      "authorship_tag": "ABX9TyO7vYNVHhhbrBw5A43fYSI3",
      "include_colab_link": true
    },
    "kernelspec": {
      "name": "python3",
      "display_name": "Python 3"
    },
    "language_info": {
      "name": "python"
    }
  },
  "cells": [
    {
      "cell_type": "markdown",
      "metadata": {
        "id": "view-in-github",
        "colab_type": "text"
      },
      "source": [
        "<a href=\"https://colab.research.google.com/github/kln200418/first/blob/main/addchangedeletelist.ipynb\" target=\"_parent\"><img src=\"https://colab.research.google.com/assets/colab-badge.svg\" alt=\"Open In Colab\"/></a>"
      ]
    },
    {
      "cell_type": "code",
      "execution_count": 9,
      "metadata": {
        "colab": {
          "base_uri": "https://localhost:8080/"
        },
        "id": "fVDlzpdFcXyj",
        "outputId": "97be5a17-27ce-4cda-8641-24b5d7a9c9f6"
      },
      "outputs": [
        {
          "output_type": "stream",
          "name": "stdout",
          "text": [
            "to change an item or a range of item\n"
          ]
        }
      ],
      "source": [
        "print(\"to change an item or a range of item\")"
      ]
    },
    {
      "cell_type": "code",
      "source": [
        "odd=[2,4,6,8]"
      ],
      "metadata": {
        "id": "SooEkfejd4On"
      },
      "execution_count": null,
      "outputs": []
    },
    {
      "cell_type": "code",
      "source": [
        "odd[0]=5"
      ],
      "metadata": {
        "id": "Qs8GuKAac5wf"
      },
      "execution_count": 2,
      "outputs": []
    },
    {
      "cell_type": "code",
      "source": [
        "print(odd)"
      ],
      "metadata": {
        "colab": {
          "base_uri": "https://localhost:8080/"
        },
        "id": "wO05Qpt8c8y9",
        "outputId": "6502870c-4163-4018-ce4e-6c3e18ce8bb3"
      },
      "execution_count": 3,
      "outputs": [
        {
          "output_type": "stream",
          "name": "stdout",
          "text": [
            "[5, 4, 6, 8]\n"
          ]
        }
      ]
    },
    {
      "cell_type": "code",
      "source": [
        "odd[1:4]=[3,5,7]"
      ],
      "metadata": {
        "id": "sG9Q81qKdDNm"
      },
      "execution_count": 4,
      "outputs": []
    },
    {
      "cell_type": "code",
      "source": [
        "print(odd)"
      ],
      "metadata": {
        "colab": {
          "base_uri": "https://localhost:8080/"
        },
        "id": "toy6-g5qdNj5",
        "outputId": "5f6445d2-b238-48bf-85e2-d7bcd4259bbf"
      },
      "execution_count": 5,
      "outputs": [
        {
          "output_type": "stream",
          "name": "stdout",
          "text": [
            "[5, 3, 5, 7]\n"
          ]
        }
      ]
    },
    {
      "cell_type": "code",
      "source": [
        "print(\"appending and extending lists\")"
      ],
      "metadata": {
        "colab": {
          "base_uri": "https://localhost:8080/"
        },
        "id": "01e2odHteTW1",
        "outputId": "6bc1944b-7493-4988-f821-bcdb58cf512f"
      },
      "execution_count": 10,
      "outputs": [
        {
          "output_type": "stream",
          "name": "stdout",
          "text": [
            "appending and extending lists\n"
          ]
        }
      ]
    },
    {
      "cell_type": "code",
      "source": [
        "odd=[1,3,5]"
      ],
      "metadata": {
        "id": "gdvohwjgea_F"
      },
      "execution_count": 11,
      "outputs": []
    },
    {
      "cell_type": "code",
      "source": [
        "odd.append(7)"
      ],
      "metadata": {
        "id": "EwfIvIqWefFN"
      },
      "execution_count": 12,
      "outputs": []
    },
    {
      "cell_type": "code",
      "source": [
        "print(odd)"
      ],
      "metadata": {
        "colab": {
          "base_uri": "https://localhost:8080/"
        },
        "id": "o4miQECWei9H",
        "outputId": "837172b1-259b-4520-c2cd-b8c68db89366"
      },
      "execution_count": 13,
      "outputs": [
        {
          "output_type": "stream",
          "name": "stdout",
          "text": [
            "[1, 3, 5, 7]\n"
          ]
        }
      ]
    },
    {
      "cell_type": "code",
      "source": [
        "odd.extend([9,11,13])"
      ],
      "metadata": {
        "id": "Vhm_usTSemA4"
      },
      "execution_count": 14,
      "outputs": []
    },
    {
      "cell_type": "code",
      "source": [
        "print(odd)\n"
      ],
      "metadata": {
        "colab": {
          "base_uri": "https://localhost:8080/"
        },
        "id": "jI-GHbWWe6BH",
        "outputId": "776134dc-fe8c-40d0-86ac-7c4659a9a813"
      },
      "execution_count": 15,
      "outputs": [
        {
          "output_type": "stream",
          "name": "stdout",
          "text": [
            "[1, 3, 5, 7, 9, 11, 13]\n"
          ]
        }
      ]
    },
    {
      "cell_type": "code",
      "source": [
        "odd=[1,3,5]"
      ],
      "metadata": {
        "id": "Hn8hPB2IfAPj"
      },
      "execution_count": 20,
      "outputs": []
    },
    {
      "cell_type": "code",
      "source": [
        "print(odd+[9,8,5])"
      ],
      "metadata": {
        "colab": {
          "base_uri": "https://localhost:8080/"
        },
        "id": "gpRrBdrPfH9g",
        "outputId": "50053748-24dd-4772-c71c-560a8c4f90d6"
      },
      "execution_count": 21,
      "outputs": [
        {
          "output_type": "stream",
          "name": "stdout",
          "text": [
            "[1, 3, 5, 9, 8, 5]\n"
          ]
        }
      ]
    },
    {
      "cell_type": "code",
      "source": [
        "print([\"re\"]*3)"
      ],
      "metadata": {
        "colab": {
          "base_uri": "https://localhost:8080/"
        },
        "id": "2LmVmJ6nfD3T",
        "outputId": "13e2030c-9934-47b4-aa12-861213e49830"
      },
      "execution_count": 25,
      "outputs": [
        {
          "output_type": "stream",
          "name": "stdout",
          "text": [
            "['re', 're', 're']\n"
          ]
        }
      ]
    }
  ]
}